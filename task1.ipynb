{
 "cells": [
  {
   "cell_type": "code",
   "execution_count": null,
   "metadata": {},
   "outputs": [],
   "source": [
    "import numpy as np\n",
    "import pandas as pd\n",
    "import time,datetime\n",
    "\n",
    "data = pd.read_csv('rawpvr_2018-02-01_28d_1083 TueFri.csv')\n",
    "date = data['Date']\n",
    "\n",
    "data['Date'].head()\n",
    "data2 = pd.to_datetime(data['Date'],format=\"%Y-%m-%d %H:%M:%S.%f\")\n",
    "\n",
    "def get_week_day(day):\n",
    "    week_day_dict = {\n",
    "    1 : 'MONDAY',\n",
    "    2 : 'TUESDAY',\n",
    "    3 : 'WEDNESDAY',\n",
    "    4 : 'THURSDAY',\n",
    "    5 : 'FRIDAY',\n",
    "    6 : 'SATURDAY',\n",
    "    7 : 'SUNDAY',\n",
    "  }\n",
    "    print\n",
    "    return week_day_dict[day]\n",
    "\n",
    "for i in data2: \n",
    "    data['Flags'] = ( i.weekday() + 1 )\n",
    "    data['Flag Text'] = ( get_week_day(i.weekday()+1 ))\n",
    "\n",
    "data.to_csv('after_task1.csv')\n",
    "\n"
   ]
  },
  {
   "cell_type": "code",
   "execution_count": null,
   "metadata": {},
   "outputs": [],
   "source": []
  },
  {
   "cell_type": "code",
   "execution_count": null,
   "metadata": {},
   "outputs": [],
   "source": []
  }
 ],
 "metadata": {
  "kernelspec": {
   "display_name": "Python 3",
   "language": "python",
   "name": "python3"
  },
  "language_info": {
   "codemirror_mode": {
    "name": "ipython",
    "version": 3
   },
   "file_extension": ".py",
   "mimetype": "text/x-python",
   "name": "python",
   "nbconvert_exporter": "python",
   "pygments_lexer": "ipython3",
   "version": "3.6.5"
  }
 },
 "nbformat": 4,
 "nbformat_minor": 2
}
